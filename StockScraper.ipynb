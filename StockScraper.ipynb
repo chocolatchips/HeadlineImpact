{
 "cells": [
  {
   "cell_type": "code",
   "execution_count": 1,
   "id": "eda6c7bb-77b4-4c3e-ad04-d3aa483e26e1",
   "metadata": {
    "tags": []
   },
   "outputs": [],
   "source": [
    "from bs4 import BeautifulSoup as bs\n",
    "import requests\n",
    "\n",
    "cnnurl = \"https://www.cnbc.com/quotes/AMD?tab=news\"\n",
    "\n",
    "response = requests.get(cnnurl)\n",
    "soup = bs(response.content, \"lxml\")"
   ]
  },
  {
   "cell_type": "code",
   "execution_count": 2,
   "id": "ebca8a42-0fea-40a5-81a9-4a113878c1a5",
   "metadata": {
    "tags": []
   },
   "outputs": [],
   "source": [
    "late_news = soup.find_all(class_=\"LatestNews-headline\")\n",
    "news_date = soup.find_all(class_=\"LatestNews-timestamp\")\n"
   ]
  },
  {
   "cell_type": "code",
   "execution_count": 3,
   "id": "02591089-8d1a-4b04-bc4a-a30c5b0f35ee",
   "metadata": {
    "tags": []
   },
   "outputs": [
    {
     "name": "stdout",
     "output_type": "stream",
     "text": [
      "https://www.cnbc.com/2024/07/12/top-wall-street-analyst-calls-on-ai-stocks-as-they-outperform-this-week.html July 11, 2024\n",
      "https://www.cnbc.com/2024/07/11/stocks-making-the-biggest-moves-midday-dal-soun-wdfc-tsla.html July 11, 2024\n",
      "https://www.cnbc.com/2024/07/11/jim-cramers-top-10-things-to-watch-in-the-stock-market-thursday.html July 11, 2024\n",
      "https://www.cnbc.com/2024/07/11/thursdays-top-analyst-calls-on-wall-street-like-broadcom.html July 11, 2024\n",
      "https://www.cnbc.com/2024/07/11/analyst-calls-all-the-market-moving-wall-street-chatter-from-thursday.html July 11, 2024\n",
      "https://www.tipranks.com/news/blurbs/advanced-micro-devices-amd-receives-a-rating-update-from-a-top-analyst-7 July 12, 2024\n",
      "https://www.tipranks.com/news/blurbs/strong-market-position-and-growth-potential-affirm-buy-rating-for-amd July 12, 2024\n",
      "https://www.tipranks.com/news/intc-vs-amd-which-semiconductor-stock-is-the-better-buy July 11, 2024\n",
      "https://www.tipranks.com/news/profit-taking-amd-nasdaqamd-slips-despite-analyst-kudos July 11, 2024\n",
      "https://www.tipranks.com/news/the-fly/notable-open-interest-changes-for-july-11th-2 July 11, 2024\n"
     ]
    }
   ],
   "source": [
    "for i in range(len(late_news)):\n",
    "    link = late_news[i].get('href')\n",
    "    date = news_date[i].get_text()\n",
    "    print(link, date)\n"
   ]
  },
  {
   "cell_type": "code",
   "execution_count": 40,
   "id": "068d6913-073a-4538-bb9f-46afef8ee37e",
   "metadata": {
    "tags": []
   },
   "outputs": [],
   "source": [
    "import json\n",
    "import datetime\n",
    "\n",
    "file_name = \"constants.json\"\n",
    "with open(file_name, 'r') as jf:\n",
    "    json_string = jf.read()\n",
    "    \n",
    "info_dict = json.loads(json_string)"
   ]
  },
  {
   "cell_type": "code",
   "execution_count": 55,
   "id": "140bc7e6-c7d9-4e1a-949e-8647342784eb",
   "metadata": {
    "tags": []
   },
   "outputs": [],
   "source": [
    "api_url = f\"{info_dict['site']}\"\n",
    "func = 'TIME_SERIES_DAILY'\n",
    "func_key = 'Time Series (Daily)'\n",
    "sym = 'AMD'\n",
    "\n",
    "test = f\"{api_url}/query?function={func}&symbol={sym}&apikey={info_dict['key']}\"\n",
    "resp = requests.get(test)\n",
    "data = resp.json()[func_key]"
   ]
  },
  {
   "cell_type": "code",
   "execution_count": 72,
   "id": "db01e488-e7c9-4883-a42a-d8bac6b81a41",
   "metadata": {
    "tags": []
   },
   "outputs": [],
   "source": [
    "op = '1. open'\n",
    "hi = '2. high'\n",
    "lo = '3. low'\n",
    "cl = '4. close'\n",
    "\n",
    "date_f = '%Y-%m-%d'\n",
    "\n",
    "\n",
    "date_data = {}\n",
    "dates_news = []\n",
    "for x in news_date:\n",
    "    tm = datetime.datetime.strptime(x.get_text(), '%B %d, %Y')\n",
    "    cur_data = data[tm.strftime(date_f)]\n",
    "    date_data[tm.strftime(date_f)] = {\n",
    "        'day': float(cur_data[op]) - float(cur_data[cl]),\n",
    "        'volatility': float(cur_data[hi]) - float(cur_data[lo])\n",
    "    }\n"
   ]
  },
  {
   "cell_type": "code",
   "execution_count": null,
   "id": "ebe3a981-2234-427b-98f7-51007760e76e",
   "metadata": {
    "tags": []
   },
   "outputs": [],
   "source": []
  }
 ],
 "metadata": {
  "kernelspec": {
   "display_name": "Python 3 (ipykernel)",
   "language": "python",
   "name": "python3"
  },
  "language_info": {
   "codemirror_mode": {
    "name": "ipython",
    "version": 3
   },
   "file_extension": ".py",
   "mimetype": "text/x-python",
   "name": "python",
   "nbconvert_exporter": "python",
   "pygments_lexer": "ipython3",
   "version": "3.11.4"
  }
 },
 "nbformat": 4,
 "nbformat_minor": 5
}
